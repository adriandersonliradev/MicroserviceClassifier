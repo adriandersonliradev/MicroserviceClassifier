{
 "cells": [
  {
   "cell_type": "code",
   "execution_count": 2,
   "metadata": {},
   "outputs": [
    {
     "name": "stdout",
     "output_type": "stream",
     "text": [
      "        Tipo Documental                                Palavras-Chave\n",
      "0              Contrato          acordo, cláusula, assinatura, partes\n",
      "1  Relatório Financeiro            despesas, receitas, balanço, lucro\n",
      "2        Ata de Reunião  deliberações, participantes, pauta, decisões\n",
      "3           Nota Fiscal                 compra, venda, imposto, valor\n",
      "4    Proposta Comercial         orçamento, cliente, negociação, prazo\n",
      "Acurácia do modelo de Regressão Logística: 0.96\n"
     ]
    }
   ],
   "source": [
    "import pandas as pd\n",
    "from sklearn.feature_extraction.text import TfidfVectorizer\n",
    "from sklearn.model_selection import train_test_split\n",
    "from sklearn.linear_model import LogisticRegression\n",
    "from sklearn.metrics import accuracy_score\n",
    "\n",
    "tipos_documentais = pd.read_csv('Dataset IA Tipos Documentais - Página1.csv')\n",
    "\n",
    "# Mostrar as primeiras linhas do DataFrame para verificar se o arquivo foi carregado corretamente\n",
    "print(tipos_documentais.head())\n",
    "\n",
    "#Vetorização do texto usando TF-IDF\n",
    "vectorizer = TfidfVectorizer()\n",
    "X = vectorizer.fit_transform(tipos_documentais['Palavras-Chave'])\n",
    "\n",
    "# Target\n",
    "y = tipos_documentais['Tipo Documental']\n",
    "\n",
    "# Divisão dos dados em treino e teste\n",
    "X_train, X_test, y_train, y_test = train_test_split(X, y, test_size=0.2, random_state=42)\n",
    "\n",
    "# Instanciando o modelo de Regressão Logística\n",
    "logistic_model = LogisticRegression(max_iter=1000)\n",
    "\n",
    "# Treinando o modelo\n",
    "logistic_model.fit(X_train, y_train)\n",
    "\n",
    "# Fazendo previsões no conjunto de teste\n",
    "y_pred = logistic_model.predict(X_test)\n",
    "\n",
    "# Calculando a acurácia\n",
    "accuracy = accuracy_score(y_test, y_pred)\n",
    "print(f'Acurácia do modelo de Regressão Logística: {accuracy:.2f}')"
   ]
  },
  {
   "cell_type": "code",
   "execution_count": 3,
   "metadata": {},
   "outputs": [
    {
     "name": "stdout",
     "output_type": "stream",
     "text": [
      "Tipo Documental classificado: Ata de Reunião\n"
     ]
    }
   ],
   "source": [
    "def classificar_documento(texto):\n",
    "    # Vetorizar o texto de entrada usando o mesmo vetor de TF-IDF ajustado\n",
    "    X_novo = vectorizer.transform([texto])\n",
    "\n",
    "    # Prever o tipo documental usando o modelo treinado\n",
    "    tipo_documental_previsto = logistic_model.predict(X_novo)\n",
    "\n",
    "    # Retornar o tipo documental previsto\n",
    "    return tipo_documental_previsto[0]\n",
    "\n",
    "# Exemplo de uso\n",
    "texto_exemplo = \"Data: 30 de agosto de 2024 Hora: 14h00 Local: Sala de Reuniões, Edifício Central, São Paulo, SP Participantes: João Silva (Diretor Geral), Ana Costa (Gerente de Projetos), Carlos Pereira (Analista de Sistemas), Maria Oliveira (Coordenadora de Marketing) Pauta: 1. Revisão de Metas do Projeto X 2. Planejamento da Campanha de Marketing 3. Discussão sobre Novos Recursos para a Equipe 4. Outras Questões 1. Revisão de Metas do Projeto X João Silva apresentou o status atual do Projeto X. A equipe discutiu os prazos e os recursos necessários para a conclusão das tarefas restantes. A nova data de conclusão foi ajustada para 15 de outubro de 2024. A responsabilidade pela atualização do cronograma foi atribuída a Ana Costa. 2. Planejamento da Campanha de Marketing Maria Oliveira apresentou o plano de marketing para o próximo trimestre. Foram discutidas as estratégias para aumentar a visibilidade da marca e engajar o público-alvo. A aprovação do orçamento de R$ 50.000,00 para a campanha foi acordada por todos os participantes. Ana Costa ficará responsável pela coordenação com a equipe de design. 3. Discussão sobre Novos Recursos para a Equipe Carlos Pereira solicitou a aquisição de novos equipamentos para melhorar a eficiência da equipe de TI. A solicitação foi aprovada e o orçamento de R$ 20.000,00 foi autorizado. João Silva encarregou Carlos Pereira de elaborar a lista detalhada dos equipamentos necessários e enviá-la até 5 de setembro de 2024. 4. Outras Questões Ana Costa sugeriu a realização de um workshop sobre novas ferramentas de gestão de projetos. A sugestão foi bem recebida e o workshop será agendado para o final de setembro de 2024. Maria Oliveira sugeriu uma revisão do plano de comunicação interna para melhorar a eficiência. Encerramento: A próxima reunião foi agendada para 6 de setembro de 2024 às 14h00. João Silva agradeceu a presença de todos e encerrou a reunião às 15h30. Assinaturas: João Silva, Ana Costa, Carlos Pereira, Maria Oliveira\"\n",
    "tipo_documental = classificar_documento(texto_exemplo)\n",
    "print(f'Tipo Documental classificado: {tipo_documental}')"
   ]
  },
  {
   "cell_type": "code",
   "execution_count": null,
   "metadata": {},
   "outputs": [],
   "source": [
    "# import joblib\n",
    "\n",
    "# joblib.dump(vectorizer, '/content/vectorizer.pkl')\n",
    "# joblib.dump(logistic_model, '/content/logistic_model.pkl')\n",
    "# from google.colab import files\n",
    "\n",
    "# files.download('/content/vectorizer.pkl')\n",
    "# files.download('/content/logistic_model.pkl')"
   ]
  }
 ],
 "metadata": {
  "kernelspec": {
   "display_name": ".venv",
   "language": "python",
   "name": "python3"
  },
  "language_info": {
   "codemirror_mode": {
    "name": "ipython",
    "version": 3
   },
   "file_extension": ".py",
   "mimetype": "text/x-python",
   "name": "python",
   "nbconvert_exporter": "python",
   "pygments_lexer": "ipython3",
   "version": "3.10.11"
  }
 },
 "nbformat": 4,
 "nbformat_minor": 2
}
